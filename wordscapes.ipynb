{
 "cells": [
  {
   "cell_type": "code",
   "execution_count": 1,
   "metadata": {},
   "outputs": [
    {
     "ename": "ModuleNotFoundError",
     "evalue": "No module named 'streamlit'",
     "output_type": "error",
     "traceback": [
      "\u001b[0;31m---------------------------------------------------------------------------\u001b[0m",
      "\u001b[0;31mModuleNotFoundError\u001b[0m                       Traceback (most recent call last)",
      "\u001b[0;32m<ipython-input-1-17d74cdde40d>\u001b[0m in \u001b[0;36m<module>\u001b[0;34m\u001b[0m\n\u001b[1;32m      1\u001b[0m \u001b[0;31m#!/usr/bin/env python\u001b[0m\u001b[0;34m\u001b[0m\u001b[0;34m\u001b[0m\u001b[0;34m\u001b[0m\u001b[0m\n\u001b[1;32m      2\u001b[0m \u001b[0;34m\u001b[0m\u001b[0m\n\u001b[0;32m----> 3\u001b[0;31m \u001b[0;32mimport\u001b[0m \u001b[0mstreamlit\u001b[0m \u001b[0;32mas\u001b[0m \u001b[0mst\u001b[0m\u001b[0;34m\u001b[0m\u001b[0;34m\u001b[0m\u001b[0m\n\u001b[0m\u001b[1;32m      4\u001b[0m \u001b[0;32mimport\u001b[0m \u001b[0mitertools\u001b[0m\u001b[0;34m\u001b[0m\u001b[0;34m\u001b[0m\u001b[0m\n\u001b[1;32m      5\u001b[0m \u001b[0;34m\u001b[0m\u001b[0m\n",
      "\u001b[0;31mModuleNotFoundError\u001b[0m: No module named 'streamlit'"
     ]
    }
   ],
   "source": [
    "#!/usr/bin/env python\n",
    "\n",
    "import streamlit as st\n",
    "import itertools\n",
    "\n",
    "def main():\n",
    "    st.header(\"A simple wordscapes app\")\n",
    "    st.subheader(\"A demo on how to use Streamlit\")\n",
    "    \n",
    "\n",
    "if __name__ == \"__main__\":\n",
    "    main()"
   ]
  },
  {
   "cell_type": "code",
   "execution_count": null,
   "metadata": {},
   "outputs": [],
   "source": [
    "#def run_wordscapes():\n",
    "with open(\"words.txt\") as dict_file:\n",
    "    valid_words = [''.join(line.strip().split()).lower() for line in dict_file if len(line) <= 12]\n",
    "\n",
    "#letters = input('What are your letters?:')\n",
    "letters = st.text_input(label='What are your letters?', value='')\n",
    "str_length = st.text_input(label='How long is your word?', value='')\n",
    "int_length = int(str_length)\n",
    "word_length =  int_length + 1\n",
    "#for word_length in range(3, len(letters) + 1):\n",
    "words = set()\n",
    "for possible_word_tuple in itertools.permutations(letters, word_length):\n",
    "    possible_word_string = ''.join(possible_word_tuple)\n",
    "    if possible_word_string in valid_words:\n",
    "        words.add(possible_word_string)\n",
    "\n",
    "st.write(\"Matching {} letter words:\".format(word_length))\n",
    "for word in words:\n",
    "    st.write(\"\\t {}\".format(word))"
   ]
  }
 ],
 "metadata": {
  "kernelspec": {
   "display_name": "Python 3",
   "language": "python",
   "name": "python3"
  },
  "language_info": {
   "codemirror_mode": {
    "name": "ipython",
    "version": 3
   },
   "file_extension": ".py",
   "mimetype": "text/x-python",
   "name": "python",
   "nbconvert_exporter": "python",
   "pygments_lexer": "ipython3",
   "version": "3.6.7"
  }
 },
 "nbformat": 4,
 "nbformat_minor": 4
}
